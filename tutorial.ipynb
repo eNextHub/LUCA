{
 "cells": [
  {
   "cell_type": "markdown",
   "metadata": {},
   "source": [
    "# LUCA Logic\n",
    "Luca is shaped by multiple objects that will define parameters, and equations to build a pint registery for unit conversion.\n",
    "\n",
    "Inputs can be provided via a python script or a yaml file. Inputs will include the units to be converted, conversion equation, and input parameters\n",
    "\n",
    "## Input via python script"
   ]
  },
  {
   "cell_type": "code",
   "execution_count": 1,
   "metadata": {},
   "outputs": [],
   "source": [
    "from luca import Converter,Parameter,Equation"
   ]
  },
  {
   "cell_type": "code",
   "execution_count": 2,
   "metadata": {},
   "outputs": [
    {
     "name": "stdout",
     "output_type": "stream",
     "text": [
      "Help on class Parameter in module luca.core:\n",
      "\n",
      "class Parameter(builtins.object)\n",
      " |  Parameter(name: str, abbr: str, unit: str, value: float = None, source: str = None)\n",
      " |\n",
      " |  A Parameter object that can be constructed with or without a value assigned to it.\n",
      " |\n",
      " |  Methods defined here:\n",
      " |\n",
      " |  __init__(self, name: str, abbr: str, unit: str, value: float = None, source: str = None)\n",
      " |      _summary_\n",
      " |\n",
      " |      Parameters\n",
      " |      ----------\n",
      " |      name : str\n",
      " |          name of the parameter\n",
      " |      abbr : str\n",
      " |          abbreviation of parameter that is corresponding to the equation naming\n",
      " |      unit : str\n",
      " |          unit of measure\n",
      " |      value : float, optional\n",
      " |          value of the parameter for a specific item, when assigned, by default None\n",
      " |      source : str, optional\n",
      " |          source of data when the value is assigned, by default None\n",
      " |\n",
      " |  __repr__(self)\n",
      " |      Return repr(self).\n",
      " |\n",
      " |  __str__(self)\n",
      " |      Return str(self).\n",
      " |\n",
      " |  get_str(self, item: str)\n",
      " |      Retruns the parameter context value\n",
      " |\n",
      " |      Parameters\n",
      " |      ----------\n",
      " |      item : str\n",
      " |          specific item that the parameter is assigned with a value for the pint context\n",
      " |\n",
      " |      Returns\n",
      " |      -------\n",
      " |      str\n",
      " |          parameter context value\n",
      " |\n",
      " |  ----------------------------------------------------------------------\n",
      " |  Readonly properties defined here:\n",
      " |\n",
      " |  all\n",
      " |\n",
      " |  ----------------------------------------------------------------------\n",
      " |  Data descriptors defined here:\n",
      " |\n",
      " |  __dict__\n",
      " |      dictionary for instance variables (if defined)\n",
      " |\n",
      " |  __weakref__\n",
      " |      list of weak references to the object (if defined)\n",
      " |\n",
      " |  value\n",
      "\n"
     ]
    }
   ],
   "source": [
    "help(Parameter)"
   ]
  },
  {
   "cell_type": "code",
   "execution_count": 3,
   "metadata": {},
   "outputs": [
    {
     "name": "stdout",
     "output_type": "stream",
     "text": [
      "Help on class Equation in module luca.core:\n",
      "\n",
      "class Equation(builtins.object)\n",
      " |  Equation(lh: str, rh: str, eq: str, reverse=True, switched_on=True)\n",
      " |\n",
      " |  Generates a general equation that can be duplicated for different items for a specific case\n",
      " |\n",
      " |  Methods defined here:\n",
      " |\n",
      " |  __init__(self, lh: str, rh: str, eq: str, reverse=True, switched_on=True)\n",
      " |      Initializing an Equation class\n",
      " |\n",
      " |      Parameters\n",
      " |      ----------\n",
      " |      lh : str\n",
      " |          left hand side of the context equation\n",
      " |      rh : str\n",
      " |          right hand side of the context equation\n",
      " |      eq : str\n",
      " |          parametric equation\n",
      " |      reverse : boolean\n",
      " |          if True, the reverse equation will be checked and added automatically\n",
      " |\n",
      " |      Raises\n",
      " |      ------\n",
      " |      ValueError\n",
      " |          string 'value' should be present for the pint registery\n",
      " |\n",
      " |      .. code-block:: python\n",
      " |\n",
      " |          equation = Equation('mass','energy','value * LHV_{gas}')\n",
      " |          print(equation)\n",
      " |\n",
      " |          >> [mass] -> [energy]: value * LHV_{gas}\n",
      " |\n",
      " |  __repr__(self)\n",
      " |      Return repr(self).\n",
      " |\n",
      " |  __str__(self)\n",
      " |      Return str(self).\n",
      " |\n",
      " |  fill(self, *args, **kwargs)\n",
      " |      fills an equation with the parameter values\n",
      " |\n",
      " |      Returns\n",
      " |      -------\n",
      " |      Equation\n",
      " |          return a new Equation object with the filled parameters\n",
      " |\n",
      " |  is_reversible(self)\n",
      " |      checks if an equation can be reversed or not. The criterion is to have only one operation of * or / in equation\n",
      " |\n",
      " |      Returns\n",
      " |      -------\n",
      " |      boolean\n",
      " |          True if the equation can be reversed unless False\n",
      " |\n",
      " |  reverse(self)\n",
      " |      Returns the reverse equation\n",
      " |\n",
      " |      .. note::\n",
      " |\n",
      " |          to be consistent, the function should be used only when is_reversible() == True.\n",
      " |\n",
      " |      Returns\n",
      " |      -------\n",
      " |      Equation\n",
      " |          a new Equation instance with the reversed calculations\n",
      " |\n",
      " |  ----------------------------------------------------------------------\n",
      " |  Data descriptors defined here:\n",
      " |\n",
      " |  __dict__\n",
      " |      dictionary for instance variables (if defined)\n",
      " |\n",
      " |  __weakref__\n",
      " |      list of weak references to the object (if defined)\n",
      "\n"
     ]
    }
   ],
   "source": [
    "help(Equation)"
   ]
  },
  {
   "cell_type": "code",
   "execution_count": 4,
   "metadata": {},
   "outputs": [
    {
     "name": "stdout",
     "output_type": "stream",
     "text": [
      "Help on class Converter in module luca.core:\n",
      "\n",
      "class Converter(builtins.object)\n",
      " |  Converter(item_type, equations: list[luca.core.Equation], parameters: list[luca.core.Parameter])\n",
      " |\n",
      " |  Creates the pint Registery format for an item with collecting Equations, Parameters and assigned values\n",
      " |\n",
      " |  Methods defined here:\n",
      " |\n",
      " |  __init__(self, item_type, equations: list[luca.core.Equation], parameters: list[luca.core.Parameter])\n",
      " |      Initialize a Converter object\n",
      " |\n",
      " |      Parameters\n",
      " |      ----------\n",
      " |      item_type : str\n",
      " |          the type of the item for registery, that is correspondant to the parameter place holder in the Equation objects\n",
      " |      equations : list[Equation]\n",
      " |          a list of all the equations in the registery\n",
      " |      parameters : list[Parameter]\n",
      " |          a list of all the parameters in the registery\n",
      " |\n",
      " |  __str__(self)\n",
      " |      Return str(self).\n",
      " |\n",
      " |  copy(self)\n",
      " |      Reutrns a copy of the object\n",
      " |\n",
      " |      Returns\n",
      " |      -------\n",
      " |      Converter\n",
      " |          a copy of the object\n",
      " |\n",
      " |  get_parameter(self, parameter: str, what='all')\n",
      " |      Returns a parameter of the Converter object with the requested level of info\n",
      " |\n",
      " |      Parameters\n",
      " |      ----------\n",
      " |      parameter : str\n",
      " |          the abbreviation of the requrested parameter\n",
      " |      what : str, optional\n",
      " |          level of informatio reequested,'value' for the value and 'all' for the whole object, by default \"all\"\n",
      " |\n",
      " |      Returns\n",
      " |      -------\n",
      " |      Parameter, float\n",
      " |          Parameter if what == 'all', value of the parameter if what == 'value'\n",
      " |\n",
      " |      Raises\n",
      " |      ------\n",
      " |      ValueError\n",
      " |          if parameter is not in added to the Converter\n",
      " |\n",
      " |  initialize(self, item_name: str, item_abbr: str, parameters: dict)\n",
      " |      Initialize the equations with assigning the parameters values\n",
      " |\n",
      " |      Parameters\n",
      " |      ----------\n",
      " |      item_name : str\n",
      " |          _description_\n",
      " |      item_abbr : str\n",
      " |          _description_\n",
      " |      parameters : dict\n",
      " |          _description_\n",
      " |\n",
      " |  is_ready(self)\n",
      " |      Checks the pint Regsterty can be generated or not\n",
      " |\n",
      " |      Returns\n",
      " |      -------\n",
      " |      boolean\n",
      " |          True if the object is properly built, unless False, with printing the issues in the console\n",
      " |\n",
      " |  parse_from_file(self, path: str, **kwargs)\n",
      " |      Reads the parameter values from a file database\n",
      " |\n",
      " |      Parameters\n",
      " |      ----------\n",
      " |      path : str\n",
      " |          the path of the file to read from\n",
      " |      kwargs: dict\n",
      " |          specific inputs to the pd.read_excel or pd.read_csv function\n",
      " |\n",
      " |      Returns\n",
      " |      -------\n",
      " |      Collector, dict[Collector]\n",
      " |          if only one item is spotted, a Collector object is returned, otherwise, a dict of Collector objects\n",
      " |\n",
      " |      Raises\n",
      " |      ------\n",
      " |      ValueError\n",
      " |          only csv or xlsx files are accepted.\n",
      " |\n",
      " |  set_equation(self, equation: luca.core.Equation)\n",
      " |      Adds an equation and its reverse if possible\n",
      " |\n",
      " |      Parameters\n",
      " |      ----------\n",
      " |      equation : Equation\n",
      " |          the new equation to be added\n",
      " |\n",
      " |  set_parameter(self, parameter: luca.core.Parameter)\n",
      " |      stores a Parameter object\n",
      " |\n",
      " |      Parameters\n",
      " |      ----------\n",
      " |      parameter : Parameter\n",
      " |          the parameter object to be added to the list of parameters.\n",
      " |\n",
      " |  to_frame(self, items: dict)\n",
      " |      Generates a pd.DataFrame of the case database to be filled\n",
      " |\n",
      " |      Parameters\n",
      " |      ----------\n",
      " |      items : dict[item_name:item_abbr]\n",
      " |          represents a specific case of registtery\n",
      " |\n",
      " |      Returns\n",
      " |      -------\n",
      " |      pd.DataFrame\n",
      " |          a database of the parameters to be filled for different cases of registery\n",
      " |\n",
      " |  to_txt(self, path: str)\n",
      " |      writes the registery into a txt file\n",
      " |\n",
      " |      Parameters\n",
      " |      ----------\n",
      " |      path : str\n",
      " |          path to save the txt file of registery\n",
      " |\n",
      " |  ----------------------------------------------------------------------\n",
      " |  Data descriptors defined here:\n",
      " |\n",
      " |  __dict__\n",
      " |      dictionary for instance variables (if defined)\n",
      " |\n",
      " |  __weakref__\n",
      " |      list of weak references to the object (if defined)\n",
      "\n"
     ]
    }
   ],
   "source": [
    "help(Converter)"
   ]
  },
  {
   "cell_type": "code",
   "execution_count": 5,
   "metadata": {},
   "outputs": [],
   "source": [
    "# Build a parameter\n",
    "par = Parameter(\n",
    "    name= \"Surface Density\",\n",
    "    abbr=\"Sden\",\n",
    "    unit = \"kg / m**2\"\n",
    ")"
   ]
  },
  {
   "cell_type": "code",
   "execution_count": 6,
   "metadata": {},
   "outputs": [
    {
     "name": "stdout",
     "output_type": "stream",
     "text": [
      "Sden [kg / m**2]\n"
     ]
    }
   ],
   "source": [
    "print(par)"
   ]
  },
  {
   "cell_type": "code",
   "execution_count": 7,
   "metadata": {},
   "outputs": [],
   "source": [
    "# now assume we want to calculate area using the mass and surface density of a material. We need to build an equation for the conversion\n",
    "\n",
    "eq = Equation(\n",
    "    lh = \"area\", # what you want to calculate\n",
    "    rh = \"mass\", # what you have,\n",
    "    eq = \"value * Sden_{material}\" # --> means the value of the rh * (a parameter which is Sden parameter in this case. Note that _{material} is essential to identify different values for different materials)\n",
    ")"
   ]
  },
  {
   "cell_type": "code",
   "execution_count": 8,
   "metadata": {},
   "outputs": [
    {
     "name": "stdout",
     "output_type": "stream",
     "text": [
      "   [area] -> [mass]: value * Sden_{material}\n"
     ]
    }
   ],
   "source": [
    "print(eq)"
   ]
  },
  {
   "cell_type": "code",
   "execution_count": 9,
   "metadata": {},
   "outputs": [],
   "source": [
    "materials = Converter(\n",
    "    item_type= \"material\",\n",
    "    equations= [eq],\n",
    "    parameters=[par]\n",
    "    )"
   ]
  },
  {
   "cell_type": "code",
   "execution_count": 10,
   "metadata": {},
   "outputs": [
    {
     "data": {
      "text/plain": [
       "<luca.core.Converter at 0x12bcb58e0>"
      ]
     },
     "execution_count": 10,
     "metadata": {},
     "output_type": "execute_result"
    }
   ],
   "source": [
    "materials"
   ]
  },
  {
   "cell_type": "code",
   "execution_count": 11,
   "metadata": {},
   "outputs": [
    {
     "name": "stdout",
     "output_type": "stream",
     "text": [
      "the context could not be initialized due to this errors: \n",
      "    . Item is not initialized using the specific case.\n",
      "   . Parameter 'Sden [kg / m**2]' is not assigned with a value.\n",
      "\n",
      "\n"
     ]
    }
   ],
   "source": [
    "print(materials)"
   ]
  },
  {
   "cell_type": "code",
   "execution_count": null,
   "metadata": {},
   "outputs": [],
   "source": [
    "materials.is_ready(\n",
    "\n",
    ")"
   ]
  },
  {
   "cell_type": "code",
   "execution_count": 12,
   "metadata": {},
   "outputs": [],
   "source": [
    "materials.initialize(\n",
    "    item_name= \"Steel\",\n",
    "    item_abbr=\"Steel\",\n",
    "    parameters= dict(Sden=0.48)\n",
    ")"
   ]
  },
  {
   "cell_type": "code",
   "execution_count": 13,
   "metadata": {},
   "outputs": [
    {
     "data": {
      "text/plain": [
       "True"
      ]
     },
     "execution_count": 13,
     "metadata": {},
     "output_type": "execute_result"
    }
   ],
   "source": [
    "materials.is_ready(\n",
    "\n",
    ")"
   ]
  },
  {
   "cell_type": "code",
   "execution_count": 14,
   "metadata": {},
   "outputs": [
    {
     "name": "stdout",
     "output_type": "stream",
     "text": [
      "# Steel \n",
      "Sden_Steel = 0.48 kg / m**2\n",
      "@context Steel = Steel \n",
      "   [area] -> [mass]: value * Sden_Steel\n",
      "   [mass] -> [area]: value / Sden_Steel\n",
      "@end\n"
     ]
    }
   ],
   "source": [
    "print(materials)"
   ]
  },
  {
   "cell_type": "code",
   "execution_count": 22,
   "metadata": {},
   "outputs": [],
   "source": [
    "materials.to_txt(\"pint_registry.txt\")"
   ]
  },
  {
   "cell_type": "markdown",
   "metadata": {},
   "source": [
    "If there are multiple registries, you can do the registry in one single shot, by using the Collected object\n",
    "\n",
    "You can do everything via yaml files in one shot. Look at how yaml files should look like."
   ]
  },
  {
   "cell_type": "code",
   "execution_count": 15,
   "metadata": {},
   "outputs": [],
   "source": [
    "from luca.io import parse_context\n",
    "\n",
    "test = parse_context(\"luca/yaml_test.yaml\")"
   ]
  },
  {
   "cell_type": "code",
   "execution_count": 16,
   "metadata": {},
   "outputs": [
    {
     "name": "stdout",
     "output_type": "stream",
     "text": [
      "{'gas': <luca.core.Converter object at 0x113734fb0>, 'transportation': <luca.core.Converter object at 0x10dc6a030>}\n"
     ]
    }
   ],
   "source": [
    "print(test)"
   ]
  },
  {
   "cell_type": "code",
   "execution_count": 17,
   "metadata": {},
   "outputs": [
    {
     "name": "stdout",
     "output_type": "stream",
     "text": [
      "the context could not be initialized due to this errors: \n",
      "    . Item is not initialized using the specific case.\n",
      "   . Parameter 'LHV [MJ / kg]' is not assigned with a value.\n",
      "   . Parameter 'dens [kg / m**3]' is not assigned with a value.\n",
      "\n",
      "\n"
     ]
    }
   ],
   "source": [
    "print(test[\"gas\"])"
   ]
  },
  {
   "cell_type": "code",
   "execution_count": 18,
   "metadata": {},
   "outputs": [
    {
     "name": "stdout",
     "output_type": "stream",
     "text": [
      "the context could not be initialized due to this errors: \n",
      "    . Item is not initialized using the specific case.\n",
      "   . Parameter 'Price [EUR / tonKM]' is not assigned with a value.\n",
      "\n",
      "\n"
     ]
    }
   ],
   "source": [
    "print(test[\"transportation\"])"
   ]
  },
  {
   "cell_type": "code",
   "execution_count": 20,
   "metadata": {},
   "outputs": [],
   "source": [
    "gas = test[\"gas\"]\n",
    "eqs = gas.equations"
   ]
  },
  {
   "cell_type": "code",
   "execution_count": null,
   "metadata": {},
   "outputs": [],
   "source": [
    "eqs"
   ]
  },
  {
   "cell_type": "code",
   "execution_count": null,
   "metadata": {},
   "outputs": [],
   "source": [
    "gas.get_parameter(\"LHV\")"
   ]
  },
  {
   "cell_type": "code",
   "execution_count": 21,
   "metadata": {},
   "outputs": [
    {
     "data": {
      "text/html": [
       "<div>\n",
       "<style scoped>\n",
       "    .dataframe tbody tr th:only-of-type {\n",
       "        vertical-align: middle;\n",
       "    }\n",
       "\n",
       "    .dataframe tbody tr th {\n",
       "        vertical-align: top;\n",
       "    }\n",
       "\n",
       "    .dataframe thead th {\n",
       "        text-align: right;\n",
       "    }\n",
       "</style>\n",
       "<table border=\"1\" class=\"dataframe\">\n",
       "  <thead>\n",
       "    <tr style=\"text-align: right;\">\n",
       "      <th></th>\n",
       "      <th>Parameter</th>\n",
       "      <th>ParAbbreviation</th>\n",
       "      <th>Unit</th>\n",
       "      <th>item_type</th>\n",
       "      <th>item_name</th>\n",
       "      <th>item_abbr</th>\n",
       "      <th>value</th>\n",
       "      <th>source</th>\n",
       "    </tr>\n",
       "  </thead>\n",
       "  <tbody>\n",
       "    <tr>\n",
       "      <th>0</th>\n",
       "      <td>Lower Heating Value</td>\n",
       "      <td>LHV</td>\n",
       "      <td>MJ / kg</td>\n",
       "      <td>NaN</td>\n",
       "      <td>Natural Gas</td>\n",
       "      <td>NG</td>\n",
       "      <td>NaN</td>\n",
       "      <td>NaN</td>\n",
       "    </tr>\n",
       "    <tr>\n",
       "      <th>1</th>\n",
       "      <td>Density</td>\n",
       "      <td>dens</td>\n",
       "      <td>kg / m**3</td>\n",
       "      <td>NaN</td>\n",
       "      <td>Natural Gas</td>\n",
       "      <td>NG</td>\n",
       "      <td>NaN</td>\n",
       "      <td>NaN</td>\n",
       "    </tr>\n",
       "    <tr>\n",
       "      <th>0</th>\n",
       "      <td>Lower Heating Value</td>\n",
       "      <td>LHV</td>\n",
       "      <td>MJ / kg</td>\n",
       "      <td>NaN</td>\n",
       "      <td>Hydrogen</td>\n",
       "      <td>H2</td>\n",
       "      <td>NaN</td>\n",
       "      <td>NaN</td>\n",
       "    </tr>\n",
       "    <tr>\n",
       "      <th>1</th>\n",
       "      <td>Density</td>\n",
       "      <td>dens</td>\n",
       "      <td>kg / m**3</td>\n",
       "      <td>NaN</td>\n",
       "      <td>Hydrogen</td>\n",
       "      <td>H2</td>\n",
       "      <td>NaN</td>\n",
       "      <td>NaN</td>\n",
       "    </tr>\n",
       "  </tbody>\n",
       "</table>\n",
       "</div>"
      ],
      "text/plain": [
       "             Parameter ParAbbreviation       Unit item_type    item_name  \\\n",
       "0  Lower Heating Value             LHV    MJ / kg       NaN  Natural Gas   \n",
       "1              Density            dens  kg / m**3       NaN  Natural Gas   \n",
       "0  Lower Heating Value             LHV    MJ / kg       NaN     Hydrogen   \n",
       "1              Density            dens  kg / m**3       NaN     Hydrogen   \n",
       "\n",
       "  item_abbr value source  \n",
       "0        NG   NaN    NaN  \n",
       "1        NG   NaN    NaN  \n",
       "0        H2   NaN    NaN  \n",
       "1        H2   NaN    NaN  "
      ]
     },
     "execution_count": 21,
     "metadata": {},
     "output_type": "execute_result"
    }
   ],
   "source": [
    "gas.to_frame({\"Natural Gas\":\"NG\",\"Hydrogen\":\"H2\"})"
   ]
  },
  {
   "cell_type": "code",
   "execution_count": 22,
   "metadata": {},
   "outputs": [],
   "source": [
    "gas = gas.parse_from_file(\"test.xlsx\")"
   ]
  },
  {
   "cell_type": "code",
   "execution_count": 23,
   "metadata": {},
   "outputs": [
    {
     "data": {
      "text/plain": [
       "# Natrual Gas \n",
       "LHV_NG = 7 MJ / kg\n",
       "dens_NG = 8 kg / m**3\n",
       "@context Natrual Gas = NG \n",
       "   [mass] -> [energy]: value * LHV_NG\n",
       "   [energy] -> [mass]: value / LHV_NG\n",
       "   [energy] -> [mass]: value / LHV_NG\n",
       "   [mass] -> [energy]: value * LHV_NG\n",
       "@end\n",
       "# Hydrogen \n",
       "LHV_H2 = 7 MJ / kg\n",
       "dens_H2 = 8 kg / m**3\n",
       "@context Hydrogen = H2 \n",
       "   [mass] -> [energy]: value * LHV_H2\n",
       "   [energy] -> [mass]: value / LHV_H2\n",
       "   [energy] -> [mass]: value / LHV_H2\n",
       "   [mass] -> [energy]: value * LHV_H2\n",
       "@end\n",
       "# Nitrogen \n",
       "LHV_N = 7 MJ / kg\n",
       "dens_N = 8 kg / m**3\n",
       "@context Nitrogen = N \n",
       "   [mass] -> [energy]: value * LHV_N\n",
       "   [energy] -> [mass]: value / LHV_N\n",
       "   [energy] -> [mass]: value / LHV_N\n",
       "   [mass] -> [energy]: value * LHV_N\n",
       "@end"
      ]
     },
     "execution_count": 23,
     "metadata": {},
     "output_type": "execute_result"
    }
   ],
   "source": [
    "gas"
   ]
  },
  {
   "cell_type": "code",
   "execution_count": 24,
   "metadata": {},
   "outputs": [],
   "source": [
    "pinter = gas.to_pint(\"gases.txt\")"
   ]
  },
  {
   "cell_type": "code",
   "execution_count": 25,
   "metadata": {},
   "outputs": [
    {
     "data": {
      "text/plain": [
       "<pint.registry.UnitRegistry at 0x12ee24590>"
      ]
     },
     "execution_count": 25,
     "metadata": {},
     "output_type": "execute_result"
    }
   ],
   "source": [
    "pinter"
   ]
  },
  {
   "cell_type": "code",
   "execution_count": null,
   "metadata": {},
   "outputs": [],
   "source": [
    "pinter.LHV_NG"
   ]
  },
  {
   "cell_type": "code",
   "execution_count": null,
   "metadata": {},
   "outputs": [],
   "source": [
    "pinter(\"kton\")"
   ]
  },
  {
   "cell_type": "code",
   "execution_count": null,
   "metadata": {},
   "outputs": [],
   "source": [
    "print(gas)"
   ]
  },
  {
   "cell_type": "code",
   "execution_count": 60,
   "metadata": {},
   "outputs": [],
   "source": [
    "distance = 24.0 * pinter.meter\n"
   ]
  },
  {
   "cell_type": "code",
   "execution_count": null,
   "metadata": {},
   "outputs": [],
   "source": [
    "distance"
   ]
  },
  {
   "cell_type": "code",
   "execution_count": null,
   "metadata": {},
   "outputs": [],
   "source": [
    "time = 8.0 * pinter.second\n",
    "time"
   ]
  },
  {
   "cell_type": "code",
   "execution_count": 63,
   "metadata": {},
   "outputs": [],
   "source": [
    "speed = distance/time"
   ]
  },
  {
   "cell_type": "code",
   "execution_count": null,
   "metadata": {},
   "outputs": [],
   "source": [
    "speed"
   ]
  },
  {
   "cell_type": "code",
   "execution_count": null,
   "metadata": {},
   "outputs": [],
   "source": [
    "speed.to(pinter.inch / pinter.minute )"
   ]
  },
  {
   "cell_type": "code",
   "execution_count": null,
   "metadata": {},
   "outputs": [],
   "source": [
    "(10 * pinter.LHV_H2).to()"
   ]
  },
  {
   "cell_type": "code",
   "execution_count": 72,
   "metadata": {},
   "outputs": [],
   "source": [
    "x = 10*pinter.LHV_H2"
   ]
  },
  {
   "cell_type": "code",
   "execution_count": null,
   "metadata": {},
   "outputs": [],
   "source": [
    "x.magnitude"
   ]
  },
  {
   "cell_type": "code",
   "execution_count": null,
   "metadata": {},
   "outputs": [],
   "source": [
    "x.units"
   ]
  },
  {
   "cell_type": "code",
   "execution_count": null,
   "metadata": {},
   "outputs": [],
   "source": [
    "x.dimensionality"
   ]
  },
  {
   "cell_type": "code",
   "execution_count": null,
   "metadata": {},
   "outputs": [],
   "source": [
    "x.to(pinter.kWh)"
   ]
  },
  {
   "cell_type": "code",
   "execution_count": null,
   "metadata": {},
   "outputs": [],
   "source": [
    "pinter.LHV_H2.dimensionality"
   ]
  },
  {
   "cell_type": "code",
   "execution_count": null,
   "metadata": {},
   "outputs": [],
   "source": [
    "pinter.kWh.dimensionality"
   ]
  },
  {
   "cell_type": "code",
   "execution_count": null,
   "metadata": {},
   "outputs": [],
   "source": [
    "import pint\n",
    "ureg = pint.UnitRegistry()\n",
    "\n",
    "ureg.load_definitions('Output/LUCA for pint.txt')\n"
   ]
  },
  {
   "cell_type": "code",
   "execution_count": null,
   "metadata": {},
   "outputs": [],
   "source": [
    "ureg('truckload').dimensionality"
   ]
  },
  {
   "cell_type": "code",
   "execution_count": null,
   "metadata": {},
   "outputs": [],
   "source": [
    "ureg.Sden_rail_trans"
   ]
  },
  {
   "cell_type": "code",
   "execution_count": null,
   "metadata": {},
   "outputs": [],
   "source": [
    "ureg.LHV_NG"
   ]
  },
  {
   "cell_type": "code",
   "execution_count": null,
   "metadata": {},
   "outputs": [],
   "source": [
    "10 * ureg.LHV_H2"
   ]
  },
  {
   "cell_type": "code",
   "execution_count": null,
   "metadata": {},
   "outputs": [],
   "source": [
    "ureg.truckload.dimensionality\n",
    "\n",
    "q = ureg.Quantity(\"2 truckloads\")\n",
    "q.to(\"kg\")\n",
    "\n",
    "q.to(\"kg\", \"Euro_TIR\")\n",
    "\n",
    "q.to(\"kg\", \"British_grocer\")\n"
   ]
  },
  {
   "cell_type": "code",
   "execution_count": 117,
   "metadata": {},
   "outputs": [],
   "source": [
    "q = ureg.Quantity(\"2 truckloads\")"
   ]
  },
  {
   "cell_type": "code",
   "execution_count": null,
   "metadata": {},
   "outputs": [],
   "source": [
    "q"
   ]
  },
  {
   "cell_type": "code",
   "execution_count": null,
   "metadata": {},
   "outputs": [],
   "source": [
    "q.to(\"kg\")"
   ]
  },
  {
   "cell_type": "code",
   "execution_count": null,
   "metadata": {},
   "outputs": [],
   "source": [
    "q.to(\"kg\", \"Euro_TIR\")"
   ]
  },
  {
   "cell_type": "code",
   "execution_count": 121,
   "metadata": {},
   "outputs": [],
   "source": [
    "q = 2 * ureg.LHV_H2"
   ]
  },
  {
   "cell_type": "code",
   "execution_count": null,
   "metadata": {},
   "outputs": [],
   "source": [
    "q.to(\"mass\",\"energy\")"
   ]
  },
  {
   "cell_type": "code",
   "execution_count": null,
   "metadata": {},
   "outputs": [],
   "source": [
    "ureg.british_thermal_unit.dimensionality"
   ]
  },
  {
   "cell_type": "code",
   "execution_count": null,
   "metadata": {},
   "outputs": [],
   "source": []
  }
 ],
 "metadata": {
  "kernelspec": {
   "display_name": "luca",
   "language": "python",
   "name": "python3"
  },
  "language_info": {
   "codemirror_mode": {
    "name": "ipython",
    "version": 3
   },
   "file_extension": ".py",
   "mimetype": "text/x-python",
   "name": "python",
   "nbconvert_exporter": "python",
   "pygments_lexer": "ipython3",
   "version": "3.12.0"
  }
 },
 "nbformat": 4,
 "nbformat_minor": 2
}
